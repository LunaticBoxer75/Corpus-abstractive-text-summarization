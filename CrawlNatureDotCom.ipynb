{
 "cells": [
  {
   "cell_type": "code",
   "execution_count": 1,
   "metadata": {},
   "outputs": [],
   "source": [
    "import requests \n",
    "from bs4 import BeautifulSoup \n",
    "from collections import deque\n",
    "import pickle\n",
    "from pickle import dump, load"
   ]
  },
  {
   "cell_type": "code",
   "execution_count": 2,
   "metadata": {},
   "outputs": [],
   "source": [
    "def get_summary_article_date(soup):\n",
    "    summary = \"\"\n",
    "    table = soup.find('div', attrs = {'class':'article-item__teaser-text'}) \n",
    "    if table is None:\n",
    "        return None, None, None\n",
    "    summary = table.text.strip()\n",
    "    table = soup.find('div', attrs = {'class':'article__body'}) \n",
    "    if table is None:\n",
    "        return None, None, None\n",
    "    article = \"\"\n",
    "    for row in table.find_all_next('p'):\n",
    "        if row.span is not None and row.span.text==\"Nature\":\n",
    "            break\n",
    "        text = row.text\n",
    "        article += text.strip() + \" \"\n",
    "    table = soup.find('div', attrs = {'class':'article__date'})\n",
    "    date = \"\"\n",
    "    if table is not None:\n",
    "        date = table.text.strip()\n",
    "    return summary, article, date"
   ]
  },
  {
   "cell_type": "code",
   "execution_count": 14,
   "metadata": {},
   "outputs": [
    {
     "name": "stdout",
     "output_type": "stream",
     "text": [
      "0\n",
      "set()\n"
     ]
    }
   ],
   "source": [
    "try:\n",
    "    extracted_url = load(open(\"extracted_url.pkl\", \"rb\"))\n",
    "except FileNotFoundError:\n",
    "    extracted_url = set()\n",
    "try:\n",
    "    id = load(open(\"id.pkl\", \"rb\"))\n",
    "except FileNotFoundError:\n",
    "    id = int(0)\n",
    "print(id)\n",
    "print(extracted_url)"
   ]
  },
  {
   "cell_type": "code",
   "execution_count": 17,
   "metadata": {},
   "outputs": [
    {
     "name": "stdout",
     "output_type": "stream",
     "text": [
      "https://www.nature.com/\n",
      "https://nature.com/articles/d41586-020-01451-0\n",
      "https://nature.com/articles/d41586-020-01538-8\n"
     ]
    }
   ],
   "source": [
    "URL = \"https://www.nature.com/\"\n",
    "domain = 'https://nature.com'\n",
    "article_domain = '/articles'\n",
    "http = 'http://'\n",
    "https = 'https://'\n",
    "visited = set()\n",
    "cnt = 0\n",
    "\n",
    "f=open('nature.xml', 'a')\n",
    "\n",
    "q = deque()\n",
    "num_iterations = 3\n",
    "while(num_iterations > 0):\n",
    "    num_iterations -= 1\n",
    "    q.append(URL)\n",
    "    req_success = 0\n",
    "    if len(q)==0:\n",
    "        break\n",
    "    URL = q.popleft()\n",
    "    try:\n",
    "        req = requests.get(URL)\n",
    "        req_success = 1\n",
    "    except requests.exceptions.RequestException as e:  # This is the correct syntax\n",
    "        print('Could not get URL ' + str(URL))\n",
    "    \n",
    "    if not req_success:\n",
    "        continue\n",
    "\n",
    "    if URL in visited:\n",
    "        continue\n",
    "\n",
    "    visited.add(URL)\n",
    "\n",
    "    print(URL)\n",
    "\n",
    "    soup = BeautifulSoup(req.content, 'html5lib')\n",
    "\n",
    "    l=[]\n",
    "\n",
    "    for i in soup.find_all('a'):\n",
    "        l.append(i.get('href'))    \n",
    "\n",
    "    for i in l:\n",
    "        if i is None:\n",
    "            continue\n",
    "        if domain in i:\n",
    "            q.append(i)\n",
    "        if (http not in i) and (https not in i) and (article_domain in i):\n",
    "            q.append(domain + i)\n",
    "\n",
    "    if article_domain in URL:\n",
    "        summary, article, date = get_summary_article_date(soup)\n",
    "        if summary is None or article is None or URL in extracted_url:\n",
    "            continue \n",
    "        s=(\"<url id = \\'{id}\\'>\"+URL+\"</url>\").format(id = id)\n",
    "        s+='\\n'\n",
    "        s+=(\"<title id = \\'{id}\\'>\"+summary+'</title>').format(id = id)\n",
    "        s+='\\n'\n",
    "        s+=(\"<body id = \\'{id}\\'>\"+article+\"</body>\").format(id = id)\n",
    "        s+='\\n'\n",
    "        s+=(\"<date id = \\'{id}\\'>\"+date+\"</date>\").format(id = id)\n",
    "        s+='\\n'\n",
    "        f.write(s)\n",
    "        extracted_url.add(URL)\n",
    "        id += 1\n",
    "\n",
    "f.close()"
   ]
  },
  {
   "cell_type": "code",
   "execution_count": 16,
   "metadata": {},
   "outputs": [
    {
     "name": "stdout",
     "output_type": "stream",
     "text": [
      "0\n",
      "28\n"
     ]
    }
   ],
   "source": [
    "with open(\"extracted_url.pkl\", \"wb\") as pickle_file:\n",
    "    pickle.dump(extracted_url, pickle_file)\n",
    "with open(\"id.pkl\", \"wb\") as pickle_file:\n",
    "    pickle.dump(id, pickle_file)\n",
    "print(id)\n",
    "print(len(q))"
   ]
  },
  {
   "cell_type": "code",
   "execution_count": null,
   "metadata": {},
   "outputs": [],
   "source": []
  }
 ],
 "metadata": {
  "kernelspec": {
   "display_name": "Python 3",
   "language": "python",
   "name": "python3"
  },
  "language_info": {
   "codemirror_mode": {
    "name": "ipython",
    "version": 3
   },
   "file_extension": ".py",
   "mimetype": "text/x-python",
   "name": "python",
   "nbconvert_exporter": "python",
   "pygments_lexer": "ipython3",
   "version": "3.6.9"
  }
 },
 "nbformat": 4,
 "nbformat_minor": 2
}
