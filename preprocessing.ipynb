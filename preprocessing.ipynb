{
 "cells": [
  {
   "cell_type": "code",
   "execution_count": 17,
   "metadata": {},
   "outputs": [],
   "source": [
    "# !pip3 install readability\n",
    "# !pip3 install readability-lxml\n",
    "\n",
    "from urllib import request, error\n",
    "from readability.readability import Document\n",
    "from bs4 import BeautifulSoup\n",
    "from collections import deque"
   ]
  },
  {
   "cell_type": "code",
   "execution_count": 29,
   "metadata": {},
   "outputs": [
    {
     "name": "stdout",
     "output_type": "stream",
     "text": [
      "https://www.geeksforgeeks.org/implementing-web-scraping-python-beautiful-soup/\n",
      "https://www.geeksforgeeks.org/\n",
      "https://www.geeksforgeeks.org/category/algorithm/\n",
      "https://www.geeksforgeeks.org/category/algorithm/analysis/\n",
      "https://www.geeksforgeeks.org/analysis-of-algorithms-set-1-asymptotic-analysis/\n",
      "https://www.geeksforgeeks.org/analysis-of-algorithms-set-2-asymptotic-analysis/\n",
      "https://www.geeksforgeeks.org/analysis-of-algorithms-set-3asymptotic-notations/\n",
      "https://www.geeksforgeeks.org/analysis-of-algorithems-little-o-and-little-omega-notations/\n",
      "https://www.geeksforgeeks.org/lower-and-upper-bound-theory/\n",
      "https://www.geeksforgeeks.org/analysis-of-algorithms-set-4-analysis-of-loops/\n",
      "https://www.geeksforgeeks.org/analysis-algorithm-set-4-master-method-solving-recurrences/\n"
     ]
    }
   ],
   "source": [
    "url= 'https://www.geeksforgeeks.org/implementing-web-scraping-python-beautiful-soup/'\n",
    "\n",
    "domain = 'https://www.geeksforgeeks.org'\n",
    "\n",
    "cnt = 0\n",
    "\n",
    "f=open('f1.txt', 'w+')\n",
    "\n",
    "q = deque()\n",
    "q.append(url)\n",
    "\n",
    "while len(q) > 0:\n",
    "    url = q.popleft()\n",
    "    req = request.Request(url)\n",
    "    \n",
    "    if cnt > 10:\n",
    "        continue\n",
    "        \n",
    "    cnt += 1\n",
    "    \n",
    "    print(url)\n",
    "    \n",
    "    try: request.urlopen(req)\n",
    "    except error.URLError as e:\n",
    "        continue\n",
    "    a = request.urlopen(url).read()\n",
    "    obj = Document(a)\n",
    "    para = obj.summary()\n",
    "    title = obj.short_title()\n",
    "    para = BeautifulSoup(para, 'html.parser').get_text()\n",
    "\n",
    "    soup = BeautifulSoup(a, 'html.parser')\n",
    "\n",
    "    l=[]\n",
    "\n",
    "    for i in soup.find_all('a'):\n",
    "        l.append(i.get('href'))    \n",
    "    \n",
    "    for i in l:\n",
    "        if i is None:\n",
    "            continue\n",
    "        if domain in i:\n",
    "            q.append(i)\n",
    "#         print(i)\n",
    "    \n",
    "    s=\"<url>\"+url+'</url>'\n",
    "    s+='\\n'\n",
    "    s+=\"<title>\"+title+'</title>'\n",
    "    s+='\\n'\n",
    "    s+=\"<body>\"+para+\"</body>\"\n",
    "    f.write(s)\n",
    "\n",
    "f.close()"
   ]
  },
  {
   "cell_type": "code",
   "execution_count": null,
   "metadata": {},
   "outputs": [],
   "source": []
  },
  {
   "cell_type": "code",
   "execution_count": null,
   "metadata": {},
   "outputs": [],
   "source": []
  }
 ],
 "metadata": {
  "kernelspec": {
   "display_name": "Python 3",
   "language": "python",
   "name": "python3"
  },
  "language_info": {
   "codemirror_mode": {
    "name": "ipython",
    "version": 3
   },
   "file_extension": ".py",
   "mimetype": "text/x-python",
   "name": "python",
   "nbconvert_exporter": "python",
   "pygments_lexer": "ipython3",
   "version": "3.6.9"
  }
 },
 "nbformat": 4,
 "nbformat_minor": 4
}
